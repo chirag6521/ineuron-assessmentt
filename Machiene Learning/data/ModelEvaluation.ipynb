{
 "cells": [
  {
   "cell_type": "code",
   "execution_count": 6,
   "metadata": {},
   "outputs": [
    {
     "data": {
      "text/html": [
       "<div>\n",
       "<style scoped>\n",
       "    .dataframe tbody tr th:only-of-type {\n",
       "        vertical-align: middle;\n",
       "    }\n",
       "\n",
       "    .dataframe tbody tr th {\n",
       "        vertical-align: top;\n",
       "    }\n",
       "\n",
       "    .dataframe thead th {\n",
       "        text-align: right;\n",
       "    }\n",
       "</style>\n",
       "<table border=\"1\" class=\"dataframe\">\n",
       "  <thead>\n",
       "    <tr style=\"text-align: right;\">\n",
       "      <th></th>\n",
       "      <th>Unnamed: 0</th>\n",
       "      <th>S.No</th>\n",
       "      <th>USERNAME</th>\n",
       "      <th>Caption</th>\n",
       "      <th>Followers</th>\n",
       "      <th>Hashtags</th>\n",
       "      <th>Time since posted</th>\n",
       "      <th>Likes</th>\n",
       "    </tr>\n",
       "  </thead>\n",
       "  <tbody>\n",
       "    <tr>\n",
       "      <th>0</th>\n",
       "      <td>0</td>\n",
       "      <td>1</td>\n",
       "      <td>mikequindazzi</td>\n",
       "      <td>Who are #DataScientist and what do they do? &gt;&gt;...</td>\n",
       "      <td>1600</td>\n",
       "      <td>#MachineLearning #AI #DataAnalytics #DataScien...</td>\n",
       "      <td>11 hours</td>\n",
       "      <td>139</td>\n",
       "    </tr>\n",
       "    <tr>\n",
       "      <th>1</th>\n",
       "      <td>1</td>\n",
       "      <td>2</td>\n",
       "      <td>drgorillapaints</td>\n",
       "      <td>We all know where it’s going. We just have to ...</td>\n",
       "      <td>880</td>\n",
       "      <td>#deck .#mac #macintosh#sayhello #apple #steve...</td>\n",
       "      <td>2 hours</td>\n",
       "      <td>23</td>\n",
       "    </tr>\n",
       "    <tr>\n",
       "      <th>2</th>\n",
       "      <td>2</td>\n",
       "      <td>3</td>\n",
       "      <td>aitrading_official</td>\n",
       "      <td>Alexander Barinov: 4 years as CFO in multinati...</td>\n",
       "      <td>255</td>\n",
       "      <td>#whoiswho #aitrading #ai #aitradingteam#instat...</td>\n",
       "      <td>2 hours</td>\n",
       "      <td>25</td>\n",
       "    </tr>\n",
       "    <tr>\n",
       "      <th>3</th>\n",
       "      <td>3</td>\n",
       "      <td>4</td>\n",
       "      <td>opensourcedworkplace</td>\n",
       "      <td>sfad</td>\n",
       "      <td>340</td>\n",
       "      <td>#iot #cre#workplace #CDO #bigdata #technology#...</td>\n",
       "      <td>3 hours</td>\n",
       "      <td>49</td>\n",
       "    </tr>\n",
       "    <tr>\n",
       "      <th>4</th>\n",
       "      <td>4</td>\n",
       "      <td>5</td>\n",
       "      <td>crea.vision</td>\n",
       "      <td>Ever missed a call while your phone was chargi...</td>\n",
       "      <td>304</td>\n",
       "      <td>#instamachinelearning #instabigdata#instamarke...</td>\n",
       "      <td>3 hours</td>\n",
       "      <td>30</td>\n",
       "    </tr>\n",
       "  </tbody>\n",
       "</table>\n",
       "</div>"
      ],
      "text/plain": [
       "   Unnamed: 0  S.No              USERNAME  \\\n",
       "0           0     1         mikequindazzi   \n",
       "1           1     2       drgorillapaints   \n",
       "2           2     3    aitrading_official   \n",
       "3           3     4  opensourcedworkplace   \n",
       "4           4     5           crea.vision   \n",
       "\n",
       "                                             Caption  Followers  \\\n",
       "0  Who are #DataScientist and what do they do? >>...       1600   \n",
       "1  We all know where it’s going. We just have to ...        880   \n",
       "2  Alexander Barinov: 4 years as CFO in multinati...        255   \n",
       "3                                               sfad        340   \n",
       "4  Ever missed a call while your phone was chargi...        304   \n",
       "\n",
       "                                            Hashtags Time since posted  Likes  \n",
       "0  #MachineLearning #AI #DataAnalytics #DataScien...          11 hours    139  \n",
       "1   #deck .#mac #macintosh#sayhello #apple #steve...           2 hours     23  \n",
       "2  #whoiswho #aitrading #ai #aitradingteam#instat...           2 hours     25  \n",
       "3  #iot #cre#workplace #CDO #bigdata #technology#...           3 hours     49  \n",
       "4  #instamachinelearning #instabigdata#instamarke...           3 hours     30  "
      ]
     },
     "execution_count": 6,
     "metadata": {},
     "output_type": "execute_result"
    }
   ],
   "source": [
    "data = pd.read_csv('C:\\Project\\ineuron-assessment\\Machiene Learning\\data\\instagram_reach.csv')\n",
    "data.head()"
   ]
  },
  {
   "cell_type": "code",
   "execution_count": 8,
   "metadata": {},
   "outputs": [
    {
     "data": {
      "text/plain": [
       "Unnamed: 0           0\n",
       "S.No                 0\n",
       "USERNAME             0\n",
       "Caption              6\n",
       "Followers            0\n",
       "Hashtags             0\n",
       "Time since posted    0\n",
       "Likes                0\n",
       "dtype: int64"
      ]
     },
     "execution_count": 8,
     "metadata": {},
     "output_type": "execute_result"
    }
   ],
   "source": [
    "data.isnull().sum()"
   ]
  },
  {
   "cell_type": "code",
   "execution_count": 16,
   "metadata": {},
   "outputs": [
    {
     "name": "stdout",
     "output_type": "stream",
     "text": [
      "Unique values in Followers: [1600  880  255  340  304 1231  259 1433   13  450  149 2232 1061  533\n",
      " 2904  971  285  520   75 2691  966  334 1041 4496  166 1211  265 1618\n",
      "  279  828   12  894  610  226 1168  835  124  193  258  105  273  914\n",
      "  118  122 1180 3139 3725  935 1766 2277  348   87 2785 3448  530 3147\n",
      "  918  145   11  577   66   89 2014  151 2175  371 1003 1200  383  955\n",
      " 2372  740 2573  181  631  246  460  140  888  845   91  361 2455  262\n",
      " 1158 1196  863  106  179   49  614  182 2039  741]\n",
      "Unique values in Time since posted: ['11 hours' '2 hours' '3 hours' '4 hours' '7 hours' '8 hours' '9 hours'\n",
      " '5 hours' '20 hours' '14 hours' '24 hours']\n",
      "Unique values in Likes: [139  23  25  49  30  18  35  86  22  31  48  80  94  28  53  29  46  34\n",
      " 198  19  20  11  10 148  43  37  90  14 273  13  93  24 136   8  41  81\n",
      "  16  51 157  17  65 349  21  27  40  50 119  55  12  33   9  32  42 222\n",
      " 109]\n"
     ]
    }
   ],
   "source": [
    "import pandas as pd\n",
    "\n",
    "data = pd.read_csv('C:\\Project\\ineuron-assessment\\Machiene Learning\\data\\instagram_reach.csv')\n",
    "\n",
    "# Drop non-numeric columns\n",
    "numeric_columns = ['Followers', 'Time since posted', 'Likes']\n",
    "\n",
    "for column in numeric_columns:\n",
    "    unique_values = data[column].unique()\n",
    "    print(f'Unique values in {column}: {unique_values}')\n"
   ]
  },
  {
   "cell_type": "code",
   "execution_count": 23,
   "metadata": {},
   "outputs": [
    {
     "name": "stderr",
     "output_type": "stream",
     "text": [
      "C:\\Users\\chirag\\AppData\\Local\\Temp\\ipykernel_11924\\1327494030.py:15: SettingWithCopyWarning: \n",
      "A value is trying to be set on a copy of a slice from a DataFrame.\n",
      "Try using .loc[row_indexer,col_indexer] = value instead\n",
      "\n",
      "See the caveats in the documentation: https://pandas.pydata.org/pandas-docs/stable/user_guide/indexing.html#returning-a-view-versus-a-copy\n",
      "  data_numeric['Time since posted'] = data_numeric['Time since posted'].str.extract('(\\d+)').astype(float)\n",
      "C:\\Users\\chirag\\AppData\\Local\\Temp\\ipykernel_11924\\1327494030.py:18: SettingWithCopyWarning: \n",
      "A value is trying to be set on a copy of a slice from a DataFrame.\n",
      "Try using .loc[row_indexer,col_indexer] = value instead\n",
      "\n",
      "See the caveats in the documentation: https://pandas.pydata.org/pandas-docs/stable/user_guide/indexing.html#returning-a-view-versus-a-copy\n",
      "  data_numeric['Followers'] = pd.to_numeric(data_numeric['Followers'], errors='coerce')\n",
      "C:\\Users\\chirag\\AppData\\Local\\Temp\\ipykernel_11924\\1327494030.py:19: SettingWithCopyWarning: \n",
      "A value is trying to be set on a copy of a slice from a DataFrame.\n",
      "Try using .loc[row_indexer,col_indexer] = value instead\n",
      "\n",
      "See the caveats in the documentation: https://pandas.pydata.org/pandas-docs/stable/user_guide/indexing.html#returning-a-view-versus-a-copy\n",
      "  data_numeric['Likes'] = pd.to_numeric(data_numeric['Likes'], errors='coerce')\n"
     ]
    },
    {
     "name": "stdout",
     "output_type": "stream",
     "text": [
      "Mean Squared Error (Likes): 541.0121910944121\n"
     ]
    }
   ],
   "source": [
    "import pandas as pd\n",
    "from sklearn.model_selection import train_test_split\n",
    "from sklearn.linear_model import LinearRegression\n",
    "from sklearn.metrics import mean_squared_error\n",
    "from sklearn.impute import SimpleImputer\n",
    "\n",
    "# Load the dataset\n",
    "data = pd.read_csv('C:\\Project\\ineuron-assessment\\Machiene Learning\\data\\instagram_reach.csv')\n",
    "\n",
    "# Drop non-numeric columns\n",
    "numeric_columns = ['Followers', 'Time since posted', 'Likes']\n",
    "data_numeric = data[numeric_columns]\n",
    "\n",
    "# Convert 'Time since posted' to numeric by extracting numeric part and converting it to hours\n",
    "data_numeric['Time since posted'] = data_numeric['Time since posted'].str.extract('(\\d+)').astype(float)\n",
    "\n",
    "# Handle non-numeric values in 'Followers' and 'Likes' by imputing missing values with median\n",
    "data_numeric['Followers'] = pd.to_numeric(data_numeric['Followers'], errors='coerce')\n",
    "data_numeric['Likes'] = pd.to_numeric(data_numeric['Likes'], errors='coerce')\n",
    "\n",
    "# Impute missing values with the median of each feature\n",
    "imputer = SimpleImputer(strategy='median')\n",
    "data_numeric_imputed = pd.DataFrame(imputer.fit_transform(data_numeric), columns=data_numeric.columns)\n",
    "\n",
    "# Split the dataset into features\n",
    "X = data_numeric_imputed.drop('Likes', axis=1)  \n",
    "y_likes = data_numeric_imputed['Likes']  \n",
    "# Split the dataset into training and testing sets\n",
    "X_train, X_test, y_likes_train, y_likes_test = train_test_split(X, y_likes, test_size=0.2, random_state=42)\n",
    "\n",
    "# Initialize and train the model for predicting likes\n",
    "model_likes = LinearRegression()\n",
    "model_likes.fit(X_train, y_likes_train)\n",
    "\n",
    "# Make predictions on the testing set for likes\n",
    "likes_predictions = model_likes.predict(X_test)\n",
    "\n",
    "# Evaluate the model for likes\n",
    "likes_mse = mean_squared_error(y_likes_test, likes_predictions)\n",
    "print('Mean Squared Error (Likes):', likes_mse)\n"
   ]
  },
  {
   "cell_type": "code",
   "execution_count": 24,
   "metadata": {},
   "outputs": [
    {
     "name": "stdout",
     "output_type": "stream",
     "text": [
      "Mean Squared Error (Time Since Posted): 1.1537090738857297e-30\n"
     ]
    }
   ],
   "source": [
    "# Split the dataset into features (X) and target variables (y_time_since_posted)\n",
    "y_time_since_posted = data_numeric_imputed['Time since posted']  # Target variable for predicting time since posted\n",
    "\n",
    "# Split the dataset into training and testing sets for time since posted\n",
    "X_train_time, X_test_time, y_time_train, y_time_test = train_test_split(X, y_time_since_posted, test_size=0.2, random_state=42)\n",
    "\n",
    "# Initialize and train the model for predicting time since posted\n",
    "model_time = LinearRegression()\n",
    "model_time.fit(X_train_time, y_time_train)\n",
    "\n",
    "# Make predictions on the testing set for time since posted\n",
    "time_predictions = model_time.predict(X_test_time)\n",
    "\n",
    "# Evaluate the model for time since posted\n",
    "time_mse = mean_squared_error(y_time_test, time_predictions)\n",
    "print('Mean Squared Error (Time Since Posted):', time_mse)\n"
   ]
  },
  {
   "cell_type": "code",
   "execution_count": 25,
   "metadata": {},
   "outputs": [
    {
     "name": "stdout",
     "output_type": "stream",
     "text": [
      "    Predicted Likes  Predicted Time Since Posted\n",
      "0        125.743153                         11.0\n",
      "1         33.520574                          2.0\n",
      "2         30.068082                          2.0\n",
      "3         40.342655                          3.0\n",
      "4         40.143791                          3.0\n",
      "..              ...                          ...\n",
      "95        41.856228                          3.0\n",
      "96        40.950294                          3.0\n",
      "97        39.469865                          3.0\n",
      "98        49.727910                          3.0\n",
      "99        42.557774                          3.0\n",
      "\n",
      "[100 rows x 2 columns]\n"
     ]
    }
   ],
   "source": [
    "# Make predictions on the entire dataset for likes\n",
    "all_likes_predictions = model_likes.predict(X)\n",
    "\n",
    "# Make predictions on the entire dataset for time since posted\n",
    "all_time_predictions = model_time.predict(X)\n",
    "\n",
    "# Create a DataFrame to store the predictions\n",
    "predictions_df = pd.DataFrame({'Predicted Likes': all_likes_predictions, 'Predicted Time Since Posted': all_time_predictions})\n",
    "\n",
    "# Display the predictions DataFrame\n",
    "print(predictions_df)\n"
   ]
  },
  {
   "cell_type": "code",
   "execution_count": 26,
   "metadata": {},
   "outputs": [],
   "source": [
    "# Save the predictions DataFrame to a CSV file\n",
    "predictions_df.to_csv('predictions.csv', index=False)\n"
   ]
  },
  {
   "cell_type": "code",
   "execution_count": 27,
   "metadata": {},
   "outputs": [
    {
     "data": {
      "image/png": "[encoded data removed]",
      "text/plain": [
       "<Figure size 1000x500 with 1 Axes>"
      ]
     },
     "metadata": {},
     "output_type": "display_data"
    },
    {
     "data": {
      "image/png": "[encoded data removed]",
      "text/plain": [
       "<Figure size 1000x500 with 1 Axes>"
      ]
     },
     "metadata": {},
     "output_type": "display_data"
    }
   ],
   "source": [
    "import matplotlib.pyplot as plt\n",
    "\n",
    "# Plot predicted likes vs. actual likes\n",
    "plt.figure(figsize=(10, 5))\n",
    "plt.scatter(y_likes_test, likes_predictions, color='blue', label='Predicted Likes')\n",
    "plt.plot(y_likes_test, y_likes_test, color='red', linestyle='--', label='Actual Likes')\n",
    "plt.xlabel('Actual Likes')\n",
    "plt.ylabel('Predicted Likes')\n",
    "plt.title('Actual vs. Predicted Likes')\n",
    "plt.legend()\n",
    "plt.show()\n",
    "\n",
    "# Plot predicted time since posted vs. actual time since posted\n",
    "plt.figure(figsize=(10, 5))\n",
    "plt.scatter(y_time_test, time_predictions, color='green', label='Predicted Time Since Posted')\n",
    "plt.plot(y_time_test, y_time_test, color='orange', linestyle='--', label='Actual Time Since Posted')\n",
    "plt.xlabel('Actual Time Since Posted')\n",
    "plt.ylabel('Predicted Time Since Posted')\n",
    "plt.title('Actual vs. Predicted Time Since Posted')\n",
    "plt.legend()\n",
    "plt.show()\n"
   ]
  },
  {
   "cell_type": "code",
   "execution_count": 28,
   "metadata": {},
   "outputs": [
    {
     "name": "stdout",
     "output_type": "stream",
     "text": [
      "Mean Absolute Error (Likes): 18.497853347786005\n",
      "R-squared (Likes): 0.6183678779549551\n",
      "Root Mean Squared Error (Likes): 23.25966876579312\n",
      "Mean Absolute Error (Time Since Posted): 5.551115123125783e-16\n",
      "R-squared (Time Since Posted): 1.0\n",
      "Root Mean Squared Error (Time Since Posted): 1.0741085019148343e-15\n"
     ]
    }
   ],
   "source": [
    "from sklearn.metrics import mean_absolute_error, r2_score\n",
    "\n",
    "# Calculate additional evaluation metrics for likes\n",
    "likes_mae = mean_absolute_error(y_likes_test, likes_predictions)\n",
    "likes_r2 = r2_score(y_likes_test, likes_predictions)\n",
    "likes_rmse = mean_squared_error(y_likes_test, likes_predictions, squared=False)\n",
    "\n",
    "print('Mean Absolute Error (Likes):', likes_mae)\n",
    "print('R-squared (Likes):', likes_r2)\n",
    "print('Root Mean Squared Error (Likes):', likes_rmse)\n",
    "\n",
    "# Calculate additional evaluation metrics for time since posted\n",
    "time_mae = mean_absolute_error(y_time_test, time_predictions)\n",
    "time_r2 = r2_score(y_time_test, time_predictions)\n",
    "time_rmse = mean_squared_error(y_time_test, time_predictions, squared=False)\n",
    "\n",
    "print('Mean Absolute Error (Time Since Posted):', time_mae)\n",
    "print('R-squared (Time Since Posted):', time_r2)\n",
    "print('Root Mean Squared Error (Time Since Posted):', time_rmse)\n"
   ]
  },
  {
   "cell_type": "code",
   "execution_count": 29,
   "metadata": {},
   "outputs": [
    {
     "name": "stdout",
     "output_type": "stream",
     "text": [
      "Feature Importance for Likes:\n",
      "             Feature  Coefficient\n",
      "1  Time since posted     9.805034\n",
      "0          Followers     0.005524\n",
      "Feature Importance for Time Since Posted:\n",
      "             Feature   Coefficient\n",
      "1  Time since posted  1.000000e+00\n",
      "0          Followers  2.452581e-19\n"
     ]
    }
   ],
   "source": [
    "# Retrieve coefficients for likes model\n",
    "likes_coefficients = model_likes.coef_\n",
    "likes_feature_importance = pd.DataFrame({'Feature': X.columns, 'Coefficient': likes_coefficients})\n",
    "likes_feature_importance.sort_values(by='Coefficient', ascending=False, inplace=True)\n",
    "\n",
    "# Print feature importance for likes\n",
    "print('Feature Importance for Likes:')\n",
    "print(likes_feature_importance)\n",
    "\n",
    "# Retrieve coefficients for time since posted model\n",
    "time_coefficients = model_time.coef_\n",
    "time_feature_importance = pd.DataFrame({'Feature': X.columns, 'Coefficient': time_coefficients})\n",
    "time_feature_importance.sort_values(by='Coefficient', ascending=False, inplace=True)\n",
    "\n",
    "# Print feature importance for time since posted\n",
    "print('Feature Importance for Time Since Posted:')\n",
    "print(time_feature_importance)\n"
   ]
  },
  {
   "cell_type": "code",
   "execution_count": 31,
   "metadata": {},
   "outputs": [
    {
     "name": "stderr",
     "output_type": "stream",
     "text": [
      "C:\\Users\\chirag\\AppData\\Local\\Temp\\ipykernel_11924\\2131900737.py:8: SettingWithCopyWarning: \n",
      "A value is trying to be set on a copy of a slice from a DataFrame.\n",
      "Try using .loc[row_indexer,col_indexer] = value instead\n",
      "\n",
      "See the caveats in the documentation: https://pandas.pydata.org/pandas-docs/stable/user_guide/indexing.html#returning-a-view-versus-a-copy\n",
      "  data_numeric['Time since posted'] = data_numeric['Time since posted'].str.extract('(\\d+)').astype(float)\n",
      "C:\\Users\\chirag\\AppData\\Local\\Temp\\ipykernel_11924\\2131900737.py:11: SettingWithCopyWarning: \n",
      "A value is trying to be set on a copy of a slice from a DataFrame.\n",
      "Try using .loc[row_indexer,col_indexer] = value instead\n",
      "\n",
      "See the caveats in the documentation: https://pandas.pydata.org/pandas-docs/stable/user_guide/indexing.html#returning-a-view-versus-a-copy\n",
      "  data_numeric['Followers'] = pd.to_numeric(data_numeric['Followers'], errors='coerce')\n",
      "C:\\Users\\chirag\\AppData\\Local\\Temp\\ipykernel_11924\\2131900737.py:12: SettingWithCopyWarning: \n",
      "A value is trying to be set on a copy of a slice from a DataFrame.\n",
      "Try using .loc[row_indexer,col_indexer] = value instead\n",
      "\n",
      "See the caveats in the documentation: https://pandas.pydata.org/pandas-docs/stable/user_guide/indexing.html#returning-a-view-versus-a-copy\n",
      "  data_numeric['Likes'] = pd.to_numeric(data_numeric['Likes'], errors='coerce')\n"
     ]
    },
    {
     "name": "stdout",
     "output_type": "stream",
     "text": [
      "Mean Squared Error (Likes): 1188.9795867020523\n",
      "Mean Squared Error (Time Since Posted): 11.402562709203291\n"
     ]
    }
   ],
   "source": [
    "data = pd.read_csv('C:\\Project\\ineuron-assessment\\Machiene Learning\\data\\instagram_reach.csv')\n",
    "\n",
    "# Drop non-numeric columns\n",
    "numeric_columns = ['Followers', 'Time since posted', 'Likes']\n",
    "data_numeric = data[numeric_columns]\n",
    "\n",
    "# Convert 'Time since posted' to numeric by extracting numeric part and converting it to hours\n",
    "data_numeric['Time since posted'] = data_numeric['Time since posted'].str.extract('(\\d+)').astype(float)\n",
    "\n",
    "# Handle non-numeric values in 'Followers' and 'Likes' by imputing missing values with median\n",
    "data_numeric['Followers'] = pd.to_numeric(data_numeric['Followers'], errors='coerce')\n",
    "data_numeric['Likes'] = pd.to_numeric(data_numeric['Likes'], errors='coerce')\n",
    "data_numeric = data_numeric.fillna(data_numeric.median())\n",
    "\n",
    "# Split the dataset into features (X) and target variables (y)\n",
    "X = data_numeric.drop(['Likes', 'Time since posted'], axis=1)  # Features\n",
    "y = data_numeric[['Likes', 'Time since posted']]  # Target variables for prediction\n",
    "\n",
    "# Split the dataset into training and testing sets\n",
    "X_train, X_test, y_train, y_test = train_test_split(X, y, test_size=0.2, random_state=42)\n",
    "\n",
    "# Initialize and train the multi-output regression model\n",
    "multioutput_regressor = MultiOutputRegressor(LinearRegression())\n",
    "multioutput_regressor.fit(X_train, y_train)\n",
    "\n",
    "# Make predictions on the testing set\n",
    "predictions = multioutput_regressor.predict(X_test)\n",
    "\n",
    "# Evaluate the model using mean squared error\n",
    "mse_likes = mean_squared_error(y_test['Likes'], predictions[:, 0])\n",
    "mse_time = mean_squared_error(y_test['Time since posted'], predictions[:, 1])\n",
    "\n",
    "print('Mean Squared Error (Likes):', mse_likes)\n",
    "print('Mean Squared Error (Time Since Posted):', mse_time)\n"
   ]
  },
  {
   "cell_type": "code",
   "execution_count": null,
   "metadata": {},
   "outputs": [],
   "source": []
  },
  {
   "cell_type": "code",
   "execution_count": null,
   "metadata": {},
   "outputs": [],
   "source": []
  },
  {
   "cell_type": "code",
   "execution_count": null,
   "metadata": {},
   "outputs": [],
   "source": []
  }
 ],
 "metadata": {
  "kernelspec": {
   "display_name": "Python 3",
   "language": "python",
   "name": "python3"
  },
  "language_info": {
   "codemirror_mode": {
    "name": "ipython",
    "version": 3
   },
   "file_extension": ".py",
   "mimetype": "text/x-python",
   "name": "python",
   "nbconvert_exporter": "python",
   "pygments_lexer": "ipython3",
   "version": "3.8.0"
  }
 },
 "nbformat": 4,
 "nbformat_minor": 2
}
